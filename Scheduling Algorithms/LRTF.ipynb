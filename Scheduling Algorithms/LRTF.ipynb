{
 "cells": [
  {
   "attachments": {},
   "cell_type": "markdown",
   "metadata": {},
   "source": [
    "## Longest Remaining Time First "
   ]
  },
  {
   "attachments": {},
   "cell_type": "markdown",
   "metadata": {},
   "source": [
    "`Initialize all variables`\n",
    "\n",
    "**An element in the dictionary of the Process is as follows:**\n",
    "\n",
    "Key : Value\n",
    "\n",
    "key -> the process ID number\n",
    "\n",
    "Value -> is a list \n",
    "         [Running burst time, arrival time, exit, initial burst time]\n"
   ]
  },
  {
   "cell_type": "code",
   "execution_count": 31,
   "metadata": {},
   "outputs": [],
   "source": [
    "# All variables needed \n",
    "# Process_dic = {1: [2,1,-1,2], 2:[4,2,-1,4] , 3: [6,3,-1,6] , 4:[8,4,-1,8] } \n",
    "Total_turn_around = 0\n",
    "Total_waiting_time = 0\n",
    "current_pointer = 0"
   ]
  },
  {
   "cell_type": "code",
   "execution_count": 32,
   "metadata": {},
   "outputs": [
    {
     "name": "stdout",
     "output_type": "stream",
     "text": [
      "\n",
      "Please enter the arrival time of each process: \n",
      "\n",
      "\n",
      "Please enter the burst time of each process: \n",
      "\n"
     ]
    }
   ],
   "source": [
    "# Read the data from the user\n",
    "\n",
    "Process_dic = {}\n",
    "numPro = int(input(\"Please enter the number of processes: \"))\n",
    "\n",
    "for i in range(numPro):\n",
    "    Process_dic[i+1] = [0,0,-1,0]\n",
    "\n",
    "print(\"\\nPlease enter the arrival time of each process: \\n\")\n",
    "for i in Process_dic.keys():\n",
    "    Process_dic[i][1] = int(input(\"P\"+str(i)))\n",
    "    \n",
    "print(\"\\nPlease enter the burst time of each process: \\n\")\n",
    "for i in Process_dic.keys():\n",
    "    Process_dic[i][0] = Process_dic[i][3] = int(input(\"P\"+str(i)))\n",
    "    "
   ]
  },
  {
   "attachments": {},
   "cell_type": "markdown",
   "metadata": {},
   "source": [
    "`Function to make sure all processes are consumed`\n",
    "\n",
    "For loop around the dictionary and check the running burst time, if all is zero then the function will return True. Otherwise it will return False. We need it because we will only stop schedluing when all the processes are consumed"
   ]
  },
  {
   "cell_type": "code",
   "execution_count": 33,
   "metadata": {},
   "outputs": [],
   "source": [
    "def isallzero(Process_dic):\n",
    "    empty = True\n",
    "    for key, value in Process_dic.items():\n",
    "        if Process_dic[key][0] > 0: \n",
    "            empty = False\n",
    "            return empty\n",
    "    return empty"
   ]
  },
  {
   "attachments": {},
   "cell_type": "markdown",
   "metadata": {},
   "source": [
    "`Function to only have a dictionary with the process available at a specific current time`\n",
    "\n",
    "This function is used to only allow us to include processes that already arrived. And not consider other processes"
   ]
  },
  {
   "cell_type": "code",
   "execution_count": 34,
   "metadata": {},
   "outputs": [],
   "source": [
    "def Now(Process_dic, current_pointer):\n",
    "    Process_dic_now = {}\n",
    "    for key, value in Process_dic.items():\n",
    "        if Process_dic[key][1] <= current_pointer and Process_dic[key][0] > 0:\n",
    "            Process_dic_now.update({key: value})\n",
    "    return Process_dic_now\n"
   ]
  },
  {
   "attachments": {},
   "cell_type": "markdown",
   "metadata": {},
   "source": [
    "`Process the Longest Remaining Time First and finding the exit time of each process`\n",
    "\n",
    "1. LRTF is processed by moving by a sequence of 1, and repeatedly seeing the longest process to execute now. \n",
    "2. Calculate Exit time, whenever any process is executing set its exit to current + 1. Because we are moving by +1 "
   ]
  },
  {
   "cell_type": "code",
   "execution_count": 35,
   "metadata": {},
   "outputs": [
    {
     "name": "stdout",
     "output_type": "stream",
     "text": [
      "{}\n",
      "-1\n",
      "{1: [2, 1, -1, 2]}\n",
      "1\n",
      "exit: 2\n",
      "{1: [1, 1, 2, 2], 2: [4, 2, -1, 4]}\n",
      "2\n",
      "exit: 3\n",
      "{1: [1, 1, 2, 2], 2: [3, 2, 3, 4], 3: [6, 3, -1, 6]}\n",
      "3\n",
      "exit: 4\n",
      "{1: [1, 1, 2, 2], 2: [3, 2, 3, 4], 3: [5, 3, 4, 6], 4: [8, 4, -1, 8]}\n",
      "4\n",
      "exit: 5\n",
      "{1: [1, 1, 2, 2], 2: [3, 2, 3, 4], 3: [5, 3, 4, 6], 4: [7, 4, 5, 8]}\n",
      "4\n",
      "exit: 6\n",
      "{1: [1, 1, 2, 2], 2: [3, 2, 3, 4], 3: [5, 3, 4, 6], 4: [6, 4, 6, 8]}\n",
      "4\n",
      "exit: 7\n",
      "{1: [1, 1, 2, 2], 2: [3, 2, 3, 4], 3: [5, 3, 4, 6], 4: [5, 4, 7, 8]}\n",
      "3\n",
      "exit: 8\n",
      "{1: [1, 1, 2, 2], 2: [3, 2, 3, 4], 3: [4, 3, 8, 6], 4: [5, 4, 7, 8]}\n",
      "4\n",
      "exit: 9\n",
      "{1: [1, 1, 2, 2], 2: [3, 2, 3, 4], 3: [4, 3, 8, 6], 4: [4, 4, 9, 8]}\n",
      "3\n",
      "exit: 10\n",
      "{1: [1, 1, 2, 2], 2: [3, 2, 3, 4], 3: [3, 3, 10, 6], 4: [4, 4, 9, 8]}\n",
      "4\n",
      "exit: 11\n",
      "{1: [1, 1, 2, 2], 2: [3, 2, 3, 4], 3: [3, 3, 10, 6], 4: [3, 4, 11, 8]}\n",
      "2\n",
      "exit: 12\n",
      "{1: [1, 1, 2, 2], 2: [2, 2, 12, 4], 3: [3, 3, 10, 6], 4: [3, 4, 11, 8]}\n",
      "3\n",
      "exit: 13\n",
      "{1: [1, 1, 2, 2], 2: [2, 2, 12, 4], 3: [2, 3, 13, 6], 4: [3, 4, 11, 8]}\n",
      "4\n",
      "exit: 14\n",
      "{1: [1, 1, 2, 2], 2: [2, 2, 12, 4], 3: [2, 3, 13, 6], 4: [2, 4, 14, 8]}\n",
      "2\n",
      "exit: 15\n",
      "{1: [1, 1, 2, 2], 2: [1, 2, 15, 4], 3: [2, 3, 13, 6], 4: [2, 4, 14, 8]}\n",
      "3\n",
      "exit: 16\n",
      "{1: [1, 1, 2, 2], 2: [1, 2, 15, 4], 3: [1, 3, 16, 6], 4: [2, 4, 14, 8]}\n",
      "4\n",
      "exit: 17\n",
      "{1: [1, 1, 2, 2], 2: [1, 2, 15, 4], 3: [1, 3, 16, 6], 4: [1, 4, 17, 8]}\n",
      "1\n",
      "exit: 18\n",
      "{2: [1, 2, 15, 4], 3: [1, 3, 16, 6], 4: [1, 4, 17, 8]}\n",
      "2\n",
      "exit: 19\n",
      "{3: [1, 3, 16, 6], 4: [1, 4, 17, 8]}\n",
      "3\n",
      "exit: 20\n",
      "{4: [1, 4, 17, 8]}\n",
      "4\n",
      "exit: 21\n"
     ]
    }
   ],
   "source": [
    "\n",
    "while isallzero(Process_dic) == False:\n",
    "    # 1) Which processes are suitable for our current moment to choose from?\n",
    "    process_dic_now = Now(Process_dic, current_pointer)\n",
    "    print(process_dic_now)\n",
    "    # 2) Find the element to use now\n",
    "    k= -1 \n",
    "    for key, value in sorted(process_dic_now.items(), key= lambda e: e[1][0], reverse= True): \n",
    "        k= key\n",
    "        break\n",
    "    print(k)\n",
    "    # 3) process execution\n",
    "    if k != -1 :\n",
    "        Process_dic[k][0] -=1\n",
    "        Process_dic[k][2] = current_pointer+1 \n",
    "        print(\"exit: \" + str(Process_dic[k][2]))\n",
    "    current_pointer+=1\n"
   ]
  },
  {
   "attachments": {},
   "cell_type": "markdown",
   "metadata": {},
   "source": [
    "`Calculate the average time and waiting time`\n",
    "1. loop on the dictionary and use the following equations to accumulate individual waiting time and turnaround time\n",
    "\n",
    "    Waiting time = Completion - Arrival - Burst time\n",
    "\n",
    "    Turn around time = Completion - Arrival\n",
    "    \n",
    "2. Divide the Totals by the number of processes"
   ]
  },
  {
   "cell_type": "code",
   "execution_count": 36,
   "metadata": {},
   "outputs": [
    {
     "name": "stdout",
     "output_type": "stream",
     "text": [
      "Average Turn around time: 17.0\n",
      "Average waiting time: 12.0\n"
     ]
    }
   ],
   "source": [
    "for key, value in Process_dic.items():\n",
    "    Total_turn_around += (value[2] - value[1])\n",
    "    # waiting => completion - arrival - brust\n",
    "    Total_waiting_time +=  (value[2] - value[1] - value[3])\n",
    "\n",
    "average_turn_around = Total_turn_around/ len(Process_dic.keys())\n",
    "average_waiting_time = Total_waiting_time/len(Process_dic.keys())\n",
    "\n",
    "print(\"Average Turn around time: \" + str(average_turn_around))\n",
    "print(\"Average waiting time: \" + str(average_waiting_time))"
   ]
  },
  {
   "cell_type": "code",
   "execution_count": null,
   "metadata": {},
   "outputs": [],
   "source": []
  }
 ],
 "metadata": {
  "kernelspec": {
   "display_name": "Python 3",
   "language": "python",
   "name": "python3"
  },
  "language_info": {
   "codemirror_mode": {
    "name": "ipython",
    "version": 3
   },
   "file_extension": ".py",
   "mimetype": "text/x-python",
   "name": "python",
   "nbconvert_exporter": "python",
   "pygments_lexer": "ipython3",
   "version": "3.9.13"
  },
  "orig_nbformat": 4
 },
 "nbformat": 4,
 "nbformat_minor": 2
}
