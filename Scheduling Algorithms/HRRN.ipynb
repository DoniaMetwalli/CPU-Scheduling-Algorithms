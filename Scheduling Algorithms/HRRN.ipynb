{
 "cells": [
  {
   "cell_type": "code",
   "execution_count": 194,
   "id": "b3e121dd",
   "metadata": {},
   "outputs": [],
   "source": [
    "def hrrn_scheduling(processes):\n",
    "    #process is defined as follows: ID, Arrival T, Burst T\n",
    "    #variables definations\n",
    "    sum_bt = 0\n",
    "    total_wt = 0\n",
    "    total_TT = 0\n",
    "    n = len(processes) \n",
    "    completed =[0] * n\n",
    "    waiting_time = [0] * n\n",
    "    turnaround_time = [0] * n\n",
    "\n",
    "    for i in range(0, n):\n",
    "        sum_bt += processes[i][2]\n",
    "         \n",
    "    # Sorting the processes by arrival times \n",
    "    processes.sort(key=lambda x: x[1])\n",
    "    print(\"PID Sequence\\t\", \"Arrival time\\t\",\"Burst time\\t\", \"Waiting Time\\t\", \"Turnaround\")\n",
    "    \n",
    "    time = processes[0][0] \n",
    "    \n",
    "    #loop till all processes are executed\n",
    "    while(time < sum_bt):\n",
    "        #rr is the response ratio calculated, current is our pointer\n",
    "        rr, current = 0, 0\n",
    "        rr_list = [] \n",
    "        \n",
    "        #loop on all arrived and not completed processes\n",
    "        for i in range(0, n):  \n",
    "            # Checking if process has arrived and not executed\n",
    "            if processes[i][1] <= time and completed[i] != 1:\n",
    "                 \n",
    "                #Response Ratio calculation \n",
    "                rr = ((processes[i][2] + (time - processes[i][1])) / processes[i][2])\n",
    "                rr_list.append([processes[i][0],rr])    \n",
    "                \n",
    "                # Getting Highest Response Ratio \n",
    "        rr_list.sort(key=lambda x: x[1], reverse = True)\n",
    "        current = rr_list[0][0]\n",
    "                \n",
    "                \n",
    "        # Updating time value \n",
    "        time += processes[current][2]\n",
    "         \n",
    "        #Calculation of waiting time and turnaround time\n",
    "        waiting_time[current] = (time - processes[current][1] - processes[current][2])\n",
    "        turnaround_time[current] = time - processes[current][1]\n",
    "         \n",
    "            \n",
    "        #Sum of turnaround and waiting time\n",
    "        total_TT += turnaround_time[current]\n",
    "        total_wt += waiting_time[current]\n",
    "        \n",
    "        # Updating Completion Status\n",
    "        completed[current] = 1\n",
    "\n",
    "        print(processes[current][0], \"\\t\\t\", processes[current][1], \"\\t\\t\", processes[current][2], \"\\t\\t\",\n",
    "              waiting_time[current], \"\\t\\t\", turnaround_time[current], \"\\t\\t\")\n",
    " \n",
    "    print(\"Average waiting time: {0:.2f}\".format(total_wt / n))\n",
    "    print(\"Average Turnaround time:  {0:.2f}\".format(total_TT / n))\n",
    " \n",
    "\n"
   ]
  },
  {
   "cell_type": "code",
   "execution_count": 195,
   "id": "84c39005",
   "metadata": {},
   "outputs": [
    {
     "name": "stdout",
     "output_type": "stream",
     "text": [
      "PID Sequence\t Arrival time\t Burst time\t Waiting Time\t Turnaround\n",
      "0 \t\t 0 \t\t 2 \t\t 0 \t\t 2 \t\t\n",
      "1 \t\t 2 \t\t 4 \t\t 0 \t\t 4 \t\t\n",
      "2 \t\t 4 \t\t 5 \t\t 2 \t\t 7 \t\t\n",
      "4 \t\t 8 \t\t 2 \t\t 3 \t\t 5 \t\t\n",
      "3 \t\t 6 \t\t 5 \t\t 7 \t\t 12 \t\t\n",
      "Average waiting time: 2.40\n",
      "Average Turnaround time:  6.00\n"
     ]
    }
   ],
   "source": [
    "processes = [[0, 0, 2], [1, 2, 4], [2,4,5], [3,6,5], [4,8,2]] \n",
    "hrrn_scheduling(processes)"
   ]
  },
  {
   "cell_type": "code",
   "execution_count": 196,
   "id": "6c0fd3a1",
   "metadata": {},
   "outputs": [
    {
     "name": "stdout",
     "output_type": "stream",
     "text": [
      "Enter Number of processes: \n",
      "5\n",
      "Enter Process  0  Arrival Time: \n",
      "0\n",
      "Enter Process  0  Burst Time: \n",
      "2\n",
      "Enter Process  1  Arrival Time: \n",
      "2\n",
      "Enter Process  1  Burst Time: \n",
      "4\n",
      "Enter Process  2  Arrival Time: \n",
      "4\n",
      "Enter Process  2  Burst Time: \n",
      "5\n",
      "Enter Process  3  Arrival Time: \n",
      "6\n",
      "Enter Process  3  Burst Time: \n",
      "5\n",
      "Enter Process  4  Arrival Time: \n",
      "8\n",
      "Enter Process  4  Burst Time: \n",
      "2\n",
      "PID Sequence\t Arrival time\t Burst time\t Waiting Time\t Turnaround\n",
      "0 \t\t 0 \t\t 2 \t\t 0 \t\t 2 \t\t\n",
      "1 \t\t 2 \t\t 4 \t\t 0 \t\t 4 \t\t\n",
      "2 \t\t 4 \t\t 5 \t\t 2 \t\t 7 \t\t\n",
      "4 \t\t 8 \t\t 2 \t\t 3 \t\t 5 \t\t\n",
      "3 \t\t 6 \t\t 5 \t\t 7 \t\t 12 \t\t\n",
      "Average waiting time: 2.40\n",
      "Average Turnaround time:  6.00\n"
     ]
    }
   ],
   "source": [
    "#Input Processes:\n",
    "processesInput = []\n",
    "print(\"Enter Number of processes: \")\n",
    "n = int(input())\n",
    "for i in range(n):\n",
    "    print(\"Enter Process \", i ,\" Arrival Time: \")\n",
    "    patime = int(input())\n",
    "    print(\"Enter Process \", i ,\" Burst Time: \")\n",
    "    pbtime = int(input())\n",
    "    processesInput.append([i, patime, pbtime])\n",
    "#print(processesInput)\n",
    "hrrn_scheduling(processesInput)\n"
   ]
  },
  {
   "cell_type": "code",
   "execution_count": null,
   "id": "df220277",
   "metadata": {},
   "outputs": [],
   "source": []
  }
 ],
 "metadata": {
  "kernelspec": {
   "display_name": "Python 3 (ipykernel)",
   "language": "python",
   "name": "python3"
  },
  "language_info": {
   "codemirror_mode": {
    "name": "ipython",
    "version": 3
   },
   "file_extension": ".py",
   "mimetype": "text/x-python",
   "name": "python",
   "nbconvert_exporter": "python",
   "pygments_lexer": "ipython3",
   "version": "3.9.12"
  }
 },
 "nbformat": 4,
 "nbformat_minor": 5
}
